{
 "cells": [
  {
   "cell_type": "code",
   "execution_count": 1,
   "metadata": {},
   "outputs": [],
   "source": [
    "%load_ext autoreload\n",
    "%autoreload 2"
   ]
  },
  {
   "cell_type": "code",
   "execution_count": 2,
   "metadata": {},
   "outputs": [],
   "source": [
    "import collections"
   ]
  },
  {
   "cell_type": "code",
   "execution_count": 3,
   "metadata": {},
   "outputs": [],
   "source": [
    "from utils import md_reader, read_metadata, fetch_dataframe_field_vals,\\\n",
    "    create_pandas_dataframe, get_sample_names\n",
    "from generateISA import create_metadata, main"
   ]
  },
  {
   "cell_type": "code",
   "execution_count": 4,
   "metadata": {},
   "outputs": [],
   "source": [
    "main()  # Creates the metadata.json and writes the file\n",
    "metadata = read_metadata()"
   ]
  },
  {
   "cell_type": "code",
   "execution_count": 6,
   "metadata": {},
   "outputs": [],
   "source": [
    "s_dict = {'annotationValue': 'Simulated RDF'}\n",
    "found_df_objs = md_reader(metadata, s_dict)"
   ]
  },
  {
   "cell_type": "code",
   "execution_count": 7,
   "metadata": {
    "scrolled": true
   },
   "outputs": [],
   "source": [
    "# found_df_objs[0]['assay_md']"
   ]
  },
  {
   "cell_type": "code",
   "execution_count": 8,
   "metadata": {
    "scrolled": true
   },
   "outputs": [
    {
     "data": {
      "text/plain": [
       "['(OH)3Al-O-Al(OH)32-+ 180 H2O + 2 Na+',\n",
       " '/home/tyler-biggs/git/albokeh/data/d1.RDF']"
      ]
     },
     "execution_count": 8,
     "metadata": {},
     "output_type": "execute_result"
    }
   ],
   "source": [
    "dimer_test = {\"name\": \"(OH)3Al-O-Al(OH)32-+ 180 H2O + 2 Na+\"}\n",
    "fetch_dataframe_field_vals(found_df_objs[0]['assay_md'], \"name\")"
   ]
  },
  {
   "cell_type": "code",
   "execution_count": 9,
   "metadata": {},
   "outputs": [
    {
     "data": {
      "text/plain": [
       "['(OH)3Al-O-Al(OH)32-+ 180 H2O + 2 Na+']"
      ]
     },
     "execution_count": 9,
     "metadata": {},
     "output_type": "execute_result"
    }
   ],
   "source": [
    "get_sample_names(found_df_objs[0]['assay_md'])"
   ]
  },
  {
   "cell_type": "code",
   "execution_count": 10,
   "metadata": {
    "scrolled": false
   },
   "outputs": [],
   "source": [
    "df_test = found_df_objs[0]['dataFile']"
   ]
  },
  {
   "cell_type": "code",
   "execution_count": 11,
   "metadata": {
    "scrolled": true
   },
   "outputs": [],
   "source": [
    "# create_pandas_dataframe(df_test)"
   ]
  },
  {
   "cell_type": "code",
   "execution_count": 12,
   "metadata": {},
   "outputs": [],
   "source": [
    "def crawl_assay_for_term_source_match(assay_metadata):\n",
    "    for char_entry in assay_metadata[\"characteristicCategories\"]:\n",
    "        # Check the termSource to ensure the desired key is being examined\n",
    "#         print(char_entry[\"characteristicType\"])\n",
    "        if char_entry[\"characteristicType\"]['termSource'] == \"Inter-atom distances\":\n",
    "            print(char_entry[\"characteristicType\"]['annotationValue'])"
   ]
  },
  {
   "cell_type": "code",
   "execution_count": 13,
   "metadata": {},
   "outputs": [
    {
     "name": "stdout",
     "output_type": "stream",
     "text": [
      "Al-Ob\n",
      "Al-Oh\n"
     ]
    }
   ],
   "source": [
    "crawl_assay_for_term_source_match(found_df_objs[0]['assay_md'])"
   ]
  },
  {
   "cell_type": "code",
   "execution_count": 14,
   "metadata": {},
   "outputs": [
    {
     "data": {
      "text/plain": [
       "{'@id': '#data/maxime-rdf-140687074911120',\n",
       " 'comments': [],\n",
       " 'name': '/home/tyler-biggs/git/albokeh/data/d1.RDF',\n",
       " 'type': 'Maxime-RDF'}"
      ]
     },
     "execution_count": 14,
     "metadata": {},
     "output_type": "execute_result"
    }
   ],
   "source": [
    "found_df_objs[0]['dataFile']"
   ]
  },
  {
   "cell_type": "code",
   "execution_count": null,
   "metadata": {},
   "outputs": [],
   "source": []
  },
  {
   "cell_type": "code",
   "execution_count": null,
   "metadata": {},
   "outputs": [],
   "source": []
  }
 ],
 "metadata": {
  "kernelspec": {
   "display_name": "Python 3",
   "language": "python",
   "name": "python3"
  },
  "language_info": {
   "codemirror_mode": {
    "name": "ipython",
    "version": 3
   },
   "file_extension": ".py",
   "mimetype": "text/x-python",
   "name": "python",
   "nbconvert_exporter": "python",
   "pygments_lexer": "ipython3",
   "version": "3.5.2"
  }
 },
 "nbformat": 4,
 "nbformat_minor": 2
}
