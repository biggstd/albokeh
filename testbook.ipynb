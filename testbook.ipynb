{
 "cells": [
  {
   "cell_type": "code",
   "execution_count": 1,
   "metadata": {
    "collapsed": true
   },
   "outputs": [],
   "source": [
    "%load_ext autoreload\n",
    "%autoreload 2"
   ]
  },
  {
   "cell_type": "code",
   "execution_count": 22,
   "metadata": {},
   "outputs": [],
   "source": [
    "import collections"
   ]
  },
  {
   "cell_type": "code",
   "execution_count": 23,
   "metadata": {},
   "outputs": [],
   "source": [
    "from utils import md_reader, read_metadata, fetch_dataframe_field_vals,\\\n",
    "    create_pandas_dataframe, get_sample_names\n",
    "from generateISA import create_metadata, main"
   ]
  },
  {
   "cell_type": "code",
   "execution_count": 24,
   "metadata": {
    "collapsed": true
   },
   "outputs": [],
   "source": [
    "main()  # Creates the metadata.json and writes the file\n",
    "metadata = read_metadata()"
   ]
  },
  {
   "cell_type": "code",
   "execution_count": 25,
   "metadata": {
    "collapsed": true
   },
   "outputs": [],
   "source": [
    "s_dict = {'annotationValue': 'Simulated RDF'}\n",
    "found_df_objs = md_reader(metadata, s_dict)"
   ]
  },
  {
   "cell_type": "code",
   "execution_count": 6,
   "metadata": {
    "collapsed": true,
    "scrolled": true
   },
   "outputs": [],
   "source": [
    "# found_df_objs[0]['assay_md']"
   ]
  },
  {
   "cell_type": "code",
   "execution_count": 7,
   "metadata": {
    "scrolled": true
   },
   "outputs": [
    {
     "data": {
      "text/plain": [
       "['/Users/tyler/albokeh/data/d1.RDF', '(OH)3Al-O-Al(OH)32-+ 180 H2O + 2 Na+']"
      ]
     },
     "execution_count": 7,
     "metadata": {},
     "output_type": "execute_result"
    }
   ],
   "source": [
    "dimer_test = {\"name\": \"(OH)3Al-O-Al(OH)32-+ 180 H2O + 2 Na+\"}\n",
    "fetch_dataframe_field_vals(found_df_objs[0]['assay_md'], \"name\")"
   ]
  },
  {
   "cell_type": "code",
   "execution_count": 8,
   "metadata": {},
   "outputs": [
    {
     "data": {
      "text/plain": [
       "['(OH)3Al-O-Al(OH)32-+ 180 H2O + 2 Na+']"
      ]
     },
     "execution_count": 8,
     "metadata": {},
     "output_type": "execute_result"
    }
   ],
   "source": [
    "get_sample_names(found_df_objs[0]['assay_md'])"
   ]
  },
  {
   "cell_type": "code",
   "execution_count": 9,
   "metadata": {
    "collapsed": true,
    "scrolled": false
   },
   "outputs": [],
   "source": [
    "df_test = found_df_objs[0]['dataFile']"
   ]
  },
  {
   "cell_type": "code",
   "execution_count": null,
   "metadata": {
    "collapsed": true,
    "scrolled": true
   },
   "outputs": [],
   "source": [
    "# create_pandas_dataframe(df_test)"
   ]
  },
  {
   "cell_type": "code",
   "execution_count": 20,
   "metadata": {},
   "outputs": [],
   "source": [
    "def crawl_assay_for_term_source_match(assay_metadata):\n",
    "    for char_entry in assay_metadata[\"characteristicCategories\"]:\n",
    "        # Check the termSource to ensure the desired key is being examined\n",
    "#         print(char_entry[\"characteristicType\"])\n",
    "        if char_entry[\"characteristicType\"]['termSource'] == \"Inter-atom distances\":\n",
    "            print(char_entry[\"characteristicType\"]['annotationValue'])"
   ]
  },
  {
   "cell_type": "code",
   "execution_count": 21,
   "metadata": {},
   "outputs": [
    {
     "name": "stdout",
     "output_type": "stream",
     "text": [
      "Al-Ob\n",
      "Al-Oh\n"
     ]
    }
   ],
   "source": [
    "crawl_assay_for_term_source_match(found_df_objs[0]['assay_md'])"
   ]
  },
  {
   "cell_type": "code",
   "execution_count": 11,
   "metadata": {},
   "outputs": [
    {
     "data": {
      "text/plain": [
       "{'characteristicCategories': [{'@id': '#4522431992',\n",
       "   'characteristicType': {'@id': '#4522431992',\n",
       "    'annotationValue': 'Al-Ob',\n",
       "    'termAccession': '',\n",
       "    'termSource': 'Inter-atom distances'}},\n",
       "  {'@id': '#4522432048',\n",
       "   'characteristicType': {'@id': '#4522432048',\n",
       "    'annotationValue': 'Al-Oh',\n",
       "    'termAccession': '',\n",
       "    'termSource': 'Inter-atom distances'}}],\n",
       " 'comments': [],\n",
       " 'dataFiles': [{'@id': '#data/maxime-rdf-4522433280',\n",
       "   'comments': [],\n",
       "   'name': '/Users/tyler/albokeh/data/d1.RDF',\n",
       "   'type': 'Maxime-RDF'}],\n",
       " 'filename': '',\n",
       " 'materials': {'otherMaterials': [],\n",
       "  'samples': [{'@id': '#sample/4522430816',\n",
       "    'characteristics': [],\n",
       "    'factorValues': [],\n",
       "    'name': '(OH)3Al-O-Al(OH)32-+ 180 H2O + 2 Na+'}]},\n",
       " 'measurementType': {'@id': '#4522431600',\n",
       "  'annotationValue': 'Simulated RDF',\n",
       "  'termAccession': '',\n",
       "  'termSource': 'Simulated Data'},\n",
       " 'processSequence': [],\n",
       " 'technologyPlatform': 'To be filled out.',\n",
       " 'technologyType': {'@id': '#4522431600',\n",
       "  'annotationValue': 'Simulated RDF',\n",
       "  'termAccession': '',\n",
       "  'termSource': 'Simulated Data'},\n",
       " 'unitCategories': [{'@id': '#4522431712',\n",
       "   'annotationValue': 'Angstroms',\n",
       "   'termAccession': '',\n",
       "   'termSource': 'Inter-atom distances'}]}"
      ]
     },
     "execution_count": 11,
     "metadata": {},
     "output_type": "execute_result"
    }
   ],
   "source": [
    "found_df_objs[0]['assay_md']"
   ]
  },
  {
   "cell_type": "code",
   "execution_count": null,
   "metadata": {
    "collapsed": true
   },
   "outputs": [],
   "source": []
  }
 ],
 "metadata": {
  "kernelspec": {
   "display_name": "Python 3",
   "language": "python",
   "name": "python3"
  },
  "language_info": {
   "codemirror_mode": {
    "name": "ipython",
    "version": 3
   },
   "file_extension": ".py",
   "mimetype": "text/x-python",
   "name": "python",
   "nbconvert_exporter": "python",
   "pygments_lexer": "ipython3",
   "version": "3.6.1"
  }
 },
 "nbformat": 4,
 "nbformat_minor": 2
}
